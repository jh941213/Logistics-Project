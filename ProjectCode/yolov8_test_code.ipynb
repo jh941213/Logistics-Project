{
  "nbformat": 4,
  "nbformat_minor": 0,
  "metadata": {
    "colab": {
      "provenance": [],
      "machine_shape": "hm"
    },
    "kernelspec": {
      "name": "python3",
      "display_name": "Python 3"
    },
    "language_info": {
      "name": "python"
    },
    "accelerator": "GPU",
    "gpuClass": "premium"
  },
  "cells": [
    {
      "cell_type": "code",
      "execution_count": 1,
      "metadata": {
        "colab": {
          "base_uri": "https://localhost:8080/"
        },
        "id": "Kqot3u4kV701",
        "outputId": "68ae76a5-82d6-455e-f6bd-ed6689b90e82"
      },
      "outputs": [
        {
          "output_type": "stream",
          "name": "stdout",
          "text": [
            "Mounted at /content/drive\n"
          ]
        }
      ],
      "source": [
        "from google.colab import drive\n",
        "drive.mount('/content/drive')"
      ]
    },
    {
      "cell_type": "code",
      "source": [
        "# Pip install method (recommended)\n",
        "%pip install ultralytics\n",
        "import ultralytics\n",
        "ultralytics.checks()"
      ],
      "metadata": {
        "colab": {
          "base_uri": "https://localhost:8080/",
          "height": 1000
        },
        "id": "myMn98FkV-qZ",
        "outputId": "a42cdef7-d372-4fc5-cf78-e105f715c48d"
      },
      "execution_count": 2,
      "outputs": [
        {
          "output_type": "stream",
          "name": "stderr",
          "text": [
            "Ultralytics YOLOv8.0.7 🚀 Python-3.8.16 torch-1.13.0+cu116 CUDA:0 (A100-SXM4-40GB, 40536MiB)\n",
            "Setup complete ✅ (12 CPUs, 83.5 GB RAM, 23.0/166.8 GB disk)\n"
          ]
        }
      ]
    },
    {
      "cell_type": "code",
      "source": [
        "# Git clone method (for development)\n",
        "!git clone https://github.com/ultralytics/ultralytics\n",
        "%pip install -qe ultralytics"
      ],
      "metadata": {
        "colab": {
          "base_uri": "https://localhost:8080/"
        },
        "id": "mRlTCI46V-s0",
        "outputId": "cf13bc31-4ec3-4f08-d82a-86165e5b67f6"
      },
      "execution_count": 3,
      "outputs": [
        {
          "output_type": "stream",
          "name": "stdout",
          "text": [
            "Cloning into 'ultralytics'...\n",
            "remote: Enumerating objects: 3956, done.\u001b[K\n",
            "remote: Counting objects: 100% (724/724), done.\u001b[K\n",
            "remote: Compressing objects: 100% (311/311), done.\u001b[K\n",
            "remote: Total 3956 (delta 486), reused 564 (delta 371), pack-reused 3232\u001b[K\n",
            "Receiving objects: 100% (3956/3956), 2.92 MiB | 16.00 MiB/s, done.\n",
            "Resolving deltas: 100% (2664/2664), done.\n",
            "  Preparing metadata (setup.py) ... \u001b[?25l\u001b[?25hdone\n"
          ]
        }
      ]
    },
    {
      "cell_type": "code",
      "source": [
        "%pip install -qe ultralytics"
      ],
      "metadata": {
        "colab": {
          "base_uri": "https://localhost:8080/"
        },
        "id": "VOkvI9izV-vT",
        "outputId": "a6e3351a-58af-4e76-979e-c56cf0765d09"
      },
      "execution_count": 4,
      "outputs": [
        {
          "output_type": "stream",
          "name": "stdout",
          "text": [
            "  Preparing metadata (setup.py) ... \u001b[?25l\u001b[?25hdone\n"
          ]
        }
      ]
    },
    {
      "cell_type": "code",
      "source": [
        "# Run inference on an image with YOLOv8n\n",
        "!yolo task=detect mode=predict model=yolov8n.pt conf=0.25 source='https://ultralytics.com/images/zidane.jpg'"
      ],
      "metadata": {
        "colab": {
          "base_uri": "https://localhost:8080/"
        },
        "id": "C-pD6jI1V-x4",
        "outputId": "fdfd61b2-2928-4c81-b418-1b15dc3a6193"
      },
      "execution_count": 8,
      "outputs": [
        {
          "output_type": "stream",
          "name": "stdout",
          "text": [
            "WARNING ⚠️ Different global settings detected, resetting to defaults. This may be due to an ultralytics package update. View and update your global settings directly in /root/.config/Ultralytics/settings.yaml\n",
            "Downloading https://ultralytics.com/images/zidane.jpg to zidane.jpg...\n",
            "100% 165k/165k [00:00<00:00, 7.09MB/s]\n",
            "Ultralytics YOLOv8.0.4 🚀 Python-3.8.16 torch-1.13.0+cu116 CUDA:0 (A100-SXM4-40GB, 40536MiB)\n",
            "Downloading https://github.com/ultralytics/assets/releases/download/v0.0.0/yolov8n.pt to yolov8n.pt...\n",
            "100% 6.24M/6.24M [00:00<00:00, 16.7MB/s]\n",
            "\n",
            "Fusing layers... \n",
            "YOLOv8n summary: 168 layers, 3151904 parameters, 0 gradients, 8.7 GFLOPs\n",
            "image 1/1 /content/ultralytics/zidane.jpg: 384x640 2 persons, 1 tie, 19.3ms\n",
            "Speed: 0.5ms pre-process, 19.3ms inference, 50.2ms postprocess per image at shape (1, 3, 640, 640)\n",
            "Results saved to \u001b[1mruns/detect/predict\u001b[0m\n"
          ]
        }
      ]
    },
    {
      "cell_type": "code",
      "source": [
        "#1차 데이터\n",
        "!curl -L \"https://universe.roboflow.com/ds/HzfEWyVwOO?key=HGRRZYbx6q\" > roboflow.zip; unzip roboflow.zip; rm roboflow.zip"
      ],
      "metadata": {
        "id": "gu5hbwHYWf0S"
      },
      "execution_count": null,
      "outputs": []
    },
    {
      "cell_type": "code",
      "source": [
        "#1차 데이터 + 어그먼테이션 3배\n",
        "!curl -L \"https://universe.roboflow.com/ds/bdM90Kt1xI?key=MEjJt6siWK\" > roboflow.zip; unzip roboflow.zip; rm roboflow.zip"
      ],
      "metadata": {
        "id": "61dii0SyWf2u"
      },
      "execution_count": null,
      "outputs": []
    },
    {
      "cell_type": "code",
      "source": [],
      "metadata": {
        "id": "HxMzCMfUWf5F"
      },
      "execution_count": null,
      "outputs": []
    },
    {
      "cell_type": "markdown",
      "source": [
        "## TRAIN\n"
      ],
      "metadata": {
        "id": "iaJWpZfWWNHl"
      }
    },
    {
      "cell_type": "code",
      "source": [
        "%cd /content/ultralytics"
      ],
      "metadata": {
        "colab": {
          "base_uri": "https://localhost:8080/"
        },
        "id": "2S6x9JqfV-5N",
        "outputId": "f8183e97-5dca-4f4c-884b-83a09afe2eef"
      },
      "execution_count": 6,
      "outputs": [
        {
          "output_type": "stream",
          "name": "stdout",
          "text": [
            "/content/ultralytics\n"
          ]
        }
      ]
    },
    {
      "cell_type": "code",
      "source": [
        "!pip install ultralytics==8.0.4"
      ],
      "metadata": {
        "id": "0vj0MvqaWMls"
      },
      "execution_count": null,
      "outputs": []
    },
    {
      "cell_type": "code",
      "source": [],
      "metadata": {
        "id": "7Y7QvFcHWMoG"
      },
      "execution_count": null,
      "outputs": []
    },
    {
      "cell_type": "code",
      "source": [
        "# Train YOLOv8n on COCO128 for 3 epochs\n",
        "!yolo task=detect mode=train model=yolov8n.pt data=/content/data.yaml epochs=250 imgsz=640 batch=32"
      ],
      "metadata": {
        "id": "hlDfV5uAWMqs"
      },
      "execution_count": null,
      "outputs": []
    },
    {
      "cell_type": "code",
      "source": [
        "import os\n",
        "import shutil"
      ],
      "metadata": {
        "id": "vjWhTEJ0WMtU"
      },
      "execution_count": 17,
      "outputs": []
    },
    {
      "cell_type": "code",
      "source": [
        "shutil.move(\"/content/ultralytics/runs/detect/train6\", \"/content/drive/MyDrive/project\")\n",
        "\n"
      ],
      "metadata": {
        "colab": {
          "base_uri": "https://localhost:8080/",
          "height": 36
        },
        "id": "nq9UKw_po0LX",
        "outputId": "8bd678f4-38f5-4afc-9d1c-dbbf9e70e8be"
      },
      "execution_count": 18,
      "outputs": [
        {
          "output_type": "execute_result",
          "data": {
            "text/plain": [
              "'/content/drive/MyDrive/project/train6'"
            ],
            "application/vnd.google.colaboratory.intrinsic+json": {
              "type": "string"
            }
          },
          "metadata": {},
          "execution_count": 18
        }
      ]
    },
    {
      "cell_type": "code",
      "source": [
        "\n"
      ],
      "metadata": {
        "id": "OGHDMxaSpPgW"
      },
      "execution_count": null,
      "outputs": []
    }
  ]
}