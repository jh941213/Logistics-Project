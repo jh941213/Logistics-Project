{
  "nbformat": 4,
  "nbformat_minor": 0,
  "metadata": {
    "colab": {
      "provenance": [],
      "machine_shape": "hm",
      "authorship_tag": "ABX9TyOnmUJpisUI1X54PtyIFLc+",
      "include_colab_link": true
    },
    "kernelspec": {
      "name": "python3",
      "display_name": "Python 3"
    },
    "language_info": {
      "name": "python"
    },
    "accelerator": "GPU",
    "gpuClass": "standard"
  },
  "cells": [
    {
      "cell_type": "markdown",
      "metadata": {
        "id": "view-in-github",
        "colab_type": "text"
      },
      "source": [
        "<a href=\"https://colab.research.google.com/github/jh941213/main-project/blob/main/easyOCR.ipynb\" target=\"_parent\"><img src=\"https://colab.research.google.com/assets/colab-badge.svg\" alt=\"Open In Colab\"/></a>"
      ]
    },
    {
      "cell_type": "markdown",
      "source": [
        "## easy OCR"
      ],
      "metadata": {
        "id": "5CJaKU1umWXI"
      }
    },
    {
      "cell_type": "code",
      "execution_count": null,
      "metadata": {
        "colab": {
          "base_uri": "https://localhost:8080/"
        },
        "id": "uD3cXINfmNBe",
        "outputId": "4b2c7646-458d-45c6-cbd4-afc3b746e9b7"
      },
      "outputs": [
        {
          "output_type": "stream",
          "name": "stdout",
          "text": [
            "Looking in indexes: https://pypi.org/simple, https://us-python.pkg.dev/colab-wheels/public/simple/\n",
            "Collecting easyocr\n",
            "  Downloading easyocr-1.6.2-py3-none-any.whl (2.9 MB)\n",
            "\u001b[2K     \u001b[90m━━━━━━━━━━━━━━━━━━━━━━━━━━━━━━━━━━━━━━━━\u001b[0m \u001b[32m2.9/2.9 MB\u001b[0m \u001b[31m14.7 MB/s\u001b[0m eta \u001b[36m0:00:00\u001b[0m\n",
            "\u001b[?25hRequirement already satisfied: torch in /usr/local/lib/python3.8/dist-packages (from easyocr) (1.13.1+cu116)\n",
            "Requirement already satisfied: Pillow in /usr/local/lib/python3.8/dist-packages (from easyocr) (7.1.2)\n",
            "Requirement already satisfied: numpy in /usr/local/lib/python3.8/dist-packages (from easyocr) (1.21.6)\n",
            "Requirement already satisfied: PyYAML in /usr/local/lib/python3.8/dist-packages (from easyocr) (6.0)\n",
            "Collecting ninja\n",
            "  Downloading ninja-1.11.1-py2.py3-none-manylinux_2_12_x86_64.manylinux2010_x86_64.whl (145 kB)\n",
            "\u001b[2K     \u001b[90m━━━━━━━━━━━━━━━━━━━━━━━━━━━━━━━━━━━━━━━\u001b[0m \u001b[32m146.0/146.0 KB\u001b[0m \u001b[31m7.1 MB/s\u001b[0m eta \u001b[36m0:00:00\u001b[0m\n",
            "\u001b[?25hRequirement already satisfied: scikit-image in /usr/local/lib/python3.8/dist-packages (from easyocr) (0.18.3)\n",
            "Requirement already satisfied: torchvision>=0.5 in /usr/local/lib/python3.8/dist-packages (from easyocr) (0.14.1+cu116)\n",
            "Collecting pyclipper\n",
            "  Downloading pyclipper-1.3.0.post4-cp38-cp38-manylinux_2_5_x86_64.manylinux1_x86_64.whl (619 kB)\n",
            "\u001b[2K     \u001b[90m━━━━━━━━━━━━━━━━━━━━━━━━━━━━━━━━━━━━━━\u001b[0m \u001b[32m619.2/619.2 KB\u001b[0m \u001b[31m21.6 MB/s\u001b[0m eta \u001b[36m0:00:00\u001b[0m\n",
            "\u001b[?25hRequirement already satisfied: scipy in /usr/local/lib/python3.8/dist-packages (from easyocr) (1.7.3)\n",
            "Collecting python-bidi\n",
            "  Downloading python_bidi-0.4.2-py2.py3-none-any.whl (30 kB)\n",
            "Collecting opencv-python-headless<=4.5.4.60\n",
            "  Downloading opencv_python_headless-4.5.4.60-cp38-cp38-manylinux_2_17_x86_64.manylinux2014_x86_64.whl (47.6 MB)\n",
            "\u001b[2K     \u001b[90m━━━━━━━━━━━━━━━━━━━━━━━━━━━━━━━━━━━━━━━━\u001b[0m \u001b[32m47.6/47.6 MB\u001b[0m \u001b[31m25.1 MB/s\u001b[0m eta \u001b[36m0:00:00\u001b[0m\n",
            "\u001b[?25hRequirement already satisfied: Shapely in /usr/local/lib/python3.8/dist-packages (from easyocr) (2.0.0)\n",
            "Requirement already satisfied: requests in /usr/local/lib/python3.8/dist-packages (from torchvision>=0.5->easyocr) (2.25.1)\n",
            "Requirement already satisfied: typing-extensions in /usr/local/lib/python3.8/dist-packages (from torchvision>=0.5->easyocr) (4.4.0)\n",
            "Requirement already satisfied: six in /usr/local/lib/python3.8/dist-packages (from python-bidi->easyocr) (1.15.0)\n",
            "Requirement already satisfied: tifffile>=2019.7.26 in /usr/local/lib/python3.8/dist-packages (from scikit-image->easyocr) (2022.10.10)\n",
            "Requirement already satisfied: PyWavelets>=1.1.1 in /usr/local/lib/python3.8/dist-packages (from scikit-image->easyocr) (1.4.1)\n",
            "Requirement already satisfied: networkx>=2.0 in /usr/local/lib/python3.8/dist-packages (from scikit-image->easyocr) (3.0)\n",
            "Requirement already satisfied: matplotlib!=3.0.0,>=2.0.0 in /usr/local/lib/python3.8/dist-packages (from scikit-image->easyocr) (3.2.2)\n",
            "Requirement already satisfied: imageio>=2.3.0 in /usr/local/lib/python3.8/dist-packages (from scikit-image->easyocr) (2.9.0)\n",
            "Requirement already satisfied: pyparsing!=2.0.4,!=2.1.2,!=2.1.6,>=2.0.1 in /usr/local/lib/python3.8/dist-packages (from matplotlib!=3.0.0,>=2.0.0->scikit-image->easyocr) (3.0.9)\n",
            "Requirement already satisfied: cycler>=0.10 in /usr/local/lib/python3.8/dist-packages (from matplotlib!=3.0.0,>=2.0.0->scikit-image->easyocr) (0.11.0)\n",
            "Requirement already satisfied: kiwisolver>=1.0.1 in /usr/local/lib/python3.8/dist-packages (from matplotlib!=3.0.0,>=2.0.0->scikit-image->easyocr) (1.4.4)\n",
            "Requirement already satisfied: python-dateutil>=2.1 in /usr/local/lib/python3.8/dist-packages (from matplotlib!=3.0.0,>=2.0.0->scikit-image->easyocr) (2.8.2)\n",
            "Requirement already satisfied: urllib3<1.27,>=1.21.1 in /usr/local/lib/python3.8/dist-packages (from requests->torchvision>=0.5->easyocr) (1.24.3)\n",
            "Requirement already satisfied: idna<3,>=2.5 in /usr/local/lib/python3.8/dist-packages (from requests->torchvision>=0.5->easyocr) (2.10)\n",
            "Requirement already satisfied: certifi>=2017.4.17 in /usr/local/lib/python3.8/dist-packages (from requests->torchvision>=0.5->easyocr) (2022.12.7)\n",
            "Requirement already satisfied: chardet<5,>=3.0.2 in /usr/local/lib/python3.8/dist-packages (from requests->torchvision>=0.5->easyocr) (4.0.0)\n",
            "Installing collected packages: pyclipper, ninja, python-bidi, opencv-python-headless, easyocr\n",
            "  Attempting uninstall: opencv-python-headless\n",
            "    Found existing installation: opencv-python-headless 4.7.0.68\n",
            "    Uninstalling opencv-python-headless-4.7.0.68:\n",
            "      Successfully uninstalled opencv-python-headless-4.7.0.68\n",
            "Successfully installed easyocr-1.6.2 ninja-1.11.1 opencv-python-headless-4.5.4.60 pyclipper-1.3.0.post4 python-bidi-0.4.2\n"
          ]
        }
      ],
      "source": [
        "!pip install easyocr"
      ]
    },
    {
      "cell_type": "code",
      "source": [
        "# load example images\n",
        "!npx degit JaidedAI/EasyOCR/examples -f"
      ],
      "metadata": {
        "colab": {
          "base_uri": "https://localhost:8080/"
        },
        "id": "nVBmEFp3my80",
        "outputId": "bd6e87da-694d-48bb-f8f9-e3f4650aa81d"
      },
      "execution_count": null,
      "outputs": [
        {
          "output_type": "stream",
          "name": "stdout",
          "text": [
            "\u001b[K\u001b[?25hnpx: installed 1 in 2.629s\n",
            "\u001b[36m> destination directory is not empty. Using --force, continuing\u001b[39m\n",
            "\u001b[36m> cloned \u001b[1mJaidedAI/EasyOCR\u001b[22m#\u001b[1mHEAD\u001b[22m\u001b[39m\n"
          ]
        }
      ]
    },
    {
      "cell_type": "code",
      "source": [
        "# list them\n",
        "!ls -l"
      ],
      "metadata": {
        "colab": {
          "base_uri": "https://localhost:8080/"
        },
        "id": "JrqBAslOnEH8",
        "outputId": "0b6391e5-a2b5-40ac-d726-271a71f90b85"
      },
      "execution_count": null,
      "outputs": [
        {
          "output_type": "stream",
          "name": "stdout",
          "text": [
            "total 3508\n",
            "-rw-r--r-- 1 root root   59898 Jan  6 02:08 chinese.jpg\n",
            "-rw-r--r-- 1 root root   97910 Jan  6 02:08 easyocr_framework.jpeg\n",
            "-rw-r--r-- 1 root root 1740957 Jan  6 02:08 english.png\n",
            "-rw-r--r-- 1 root root  487995 Jan  6 02:08 example2.png\n",
            "-rw-r--r-- 1 root root  127454 Jan  6 02:08 example3.png\n",
            "-rw-r--r-- 1 root root  488641 Jan  6 02:08 example.png\n",
            "-rw-r--r-- 1 root root  168376 Jan  6 02:08 french.jpg\n",
            "-rw-r--r-- 1 root root   42159 Jan  6 02:08 japanese.jpg\n",
            "-rw-r--r-- 1 root root  225531 Jan  6 02:08 korean.png\n",
            "drwxr-xr-x 1 root root    4096 Jan 13 14:34 sample_data\n",
            "-rw-r--r-- 1 root root   82229 Jan  6 02:08 thai.jpg\n",
            "-rw-r--r-- 1 root root   34706 Jan  6 02:08 width_ths.png\n"
          ]
        }
      ]
    },
    {
      "cell_type": "code",
      "source": [
        "import easyocr\n"
      ],
      "metadata": {
        "id": "MhFHddlHnFm7"
      },
      "execution_count": null,
      "outputs": []
    },
    {
      "cell_type": "code",
      "source": [
        "reader = easyocr.Reader(['ko', 'en'])\n",
        "result =  reader.readtext('/content/korean.png')"
      ],
      "metadata": {
        "colab": {
          "base_uri": "https://localhost:8080/"
        },
        "id": "UfLqwGQso8Aq",
        "outputId": "95a4fda2-29fc-40c3-f4d1-e0abc2377980"
      },
      "execution_count": null,
      "outputs": [
        {
          "output_type": "stream",
          "name": "stderr",
          "text": [
            "WARNING:easyocr.easyocr:Downloading detection model, please wait. This may take several minutes depending upon your network connection.\n"
          ]
        },
        {
          "output_type": "stream",
          "name": "stdout",
          "text": [
            "Progress: |██████████████████████████████████████████████████| 100.0% Complete"
          ]
        },
        {
          "output_type": "stream",
          "name": "stderr",
          "text": [
            "WARNING:easyocr.easyocr:Downloading recognition model, please wait. This may take several minutes depending upon your network connection.\n"
          ]
        },
        {
          "output_type": "stream",
          "name": "stdout",
          "text": [
            "Progress: |██████████████████████████████████████████████████| 100.1% Complete"
          ]
        }
      ]
    },
    {
      "cell_type": "code",
      "source": [
        "import numpy as np\n",
        "from PIL import ImageFont, ImageDraw, Image\n",
        "import cv2 \n",
        "import random \n",
        "import matplotlib.pyplot as plt"
      ],
      "metadata": {
        "id": "_QICjAw7rFiG"
      },
      "execution_count": null,
      "outputs": []
    },
    {
      "cell_type": "code",
      "source": [
        "import easyocr\n",
        "reader = easyocr.Reader(['ko','en']) # need to run only once to load model into memory\n",
        "result = reader.readtext('/content/testpic.png')\n",
        "print(result)"
      ],
      "metadata": {
        "colab": {
          "base_uri": "https://localhost:8080/"
        },
        "id": "awfQw4YgrwTp",
        "outputId": "9c5257f4-79ef-43ab-8f97-072df2a16c4f"
      },
      "execution_count": null,
      "outputs": [
        {
          "output_type": "stream",
          "name": "stdout",
          "text": [
            "[([[43, 24], [503, 24], [503, 105], [43, 105]], '접수고객 보관용', 0.9188627105921746), ([[68, 127], [525, 127], [525, 172], [68, 172]], '당사는 배송사고시 공정거래위원회', 0.7388621597440178), ([[39, 173], [523, 173], [523, 217], [39, 217]], '가 정한 약관에 준하여 보상처리하고', 0.701344206899015), ([[835, 167], [899, 167], [899, 233], [835, 233]], '다', 0.4258226459518575), ([[36, 218], [468, 218], [468, 263], [36, 263]], '있습니다. (문송약관 후면 참조)', 0.8391913188050377), ([[64, 276], [530, 276], [530, 324], [64, 324]], '물품가액은 배송사고시 배상금액의', 0.7465314798005134), ([[34, 323], [500, 323], [500, 373], [34, 373]], '기준이 되니다 (문송장 기재사랑은', 0.3918365861020597), ([[35, 373], [429, 373], [429, 417], [35, 417]], '고객의 확인 및 귀책 기준임)', 0.9620195042513555), ([[50, 426], [553, 426], [553, 482], [50, 482]], \"'현금 , 유가증권 , 귀금속, 시한성 상품\", 0.6609727167321413), ([[30, 476], [540, 476], [540, 532], [30, 532]], '(특정일 사용 및 행사상품등) , 재발행', 0.9110851888561944), ([[30, 521], [533, 521], [533, 582], [30, 582]], '불가서류 , 신문증류 , 액처류 , 유리류,', 0.3316908466250661), ([[29, 568], [565, 568], [565, 628], [29, 628]], '부패 /변질 우려상품 등은 접수물가상품', 0.6933148051650766), ([[30, 622], [534, 622], [534, 678], [30, 678]], '이미 배송사고시 보상되지 않습니다', 0.503357532845413), ([[24, 685], [513, 685], [513, 747], [24, 747]], '765-88-00857 (쥐지예습비슬목스', 0.0882598529390547), ([[23, 721], [563, 721], [563, 784], [23, 784]], '경기도 용인지 처인구 포직움 포곡로 100', 0.4133956865035631), ([[13, 791], [348, 791], [348, 855], [13, 855]], '운임 선물 5,100원', 0.8086750830304416), ([[466, 784], [955, 784], [955, 844], [466, 844]], '운송장번호 363780097230', 0.9017505916315649), ([[10, 872], [385, 872], [385, 950], [10, 950]], '물품가액 300,000원', 0.6050578292829879), ([[471, 875], [549, 875], [549, 919], [471, 919]], '비고', 0.9869321705531573), ([[551, 867], [854, 867], [854, 934], [551, 934]], '이용불가상품없음', 0.9806895218803191), ([[7, 954], [436, 954], [436, 1038], [7, 1038]], '접수일자 2022-12-24', 0.8122306890919007), ([[471, 957], [698, 957], [698, 1006], [471, 1006]], '0101V5F89', 0.7371796729849608), ([[5, 1039], [305, 1039], [305, 1120], [5, 1120]], '발m사람 감승준', 0.21916222879219283), ([[473, 1036], [787, 1036], [787, 1103], [473, 1103]], '보니는사람 김지권', 0.40797623770238356), ([[555.543977760618, 12.386331057915593], [860.6129211695261, -13.458339127659467], [862.456022239382, 58.61366894208441], [557.3870788304739, 84.45833912765947]], '포스스템공', 0.1391085089968735), ([[777.0769521047183, 92.26933236651423], [904.0677639381515, 80.50969330991282], [905.9230478952817, 140.73066763348575], [778.9322360618485, 152.49030669008718]], '스랜>', 0.39741218090057373), ([[561.7716559418753, 122.42913985468844], [772.6478654373304, 102.97475532297746], [775.2283440581247, 158.57086014531154], [563.3521345626696, 178.02524467702253]], '<점포포스', 0.8282189730174476)]\n"
          ]
        }
      ]
    },
    {
      "cell_type": "code",
      "source": [
        "import re"
      ],
      "metadata": {
        "id": "5r4l50-ZmkzT"
      },
      "execution_count": null,
      "outputs": []
    },
    {
      "cell_type": "code",
      "source": [
        "len('운송장번호'),len('363780097230'),len('운송장번호 363780097230')"
      ],
      "metadata": {
        "colab": {
          "base_uri": "https://localhost:8080/"
        },
        "id": "jAYQk_GdoMtS",
        "outputId": "c85ac5d2-d825-4539-f414-0cd9c51a7f5a"
      },
      "execution_count": null,
      "outputs": [
        {
          "output_type": "execute_result",
          "data": {
            "text/plain": [
              "(5, 12, 18)"
            ]
          },
          "metadata": {},
          "execution_count": 17
        }
      ]
    },
    {
      "cell_type": "code",
      "source": [
        "result[1]"
      ],
      "metadata": {
        "colab": {
          "base_uri": "https://localhost:8080/"
        },
        "id": "QqallG-xqPj4",
        "outputId": "448b1c71-81f4-49d8-da07-46dfaa1819ce"
      },
      "execution_count": null,
      "outputs": [
        {
          "output_type": "execute_result",
          "data": {
            "text/plain": [
              "([[68, 127], [525, 127], [525, 172], [68, 172]],\n",
              " '당사는 배송사고시 공정거래위원회',\n",
              " 0.7388621597440178)"
            ]
          },
          "metadata": {},
          "execution_count": 25
        }
      ]
    },
    {
      "cell_type": "code",
      "source": [
        "songjang = []\n",
        "for re_list in result:\n",
        "  songjang.append(re_list[1])\n",
        "for i in songjang:\n",
        "  tot = re.findall(r'운송장번호 .+?',i)    "
      ],
      "metadata": {
        "id": "vlgFG9Gmpstd"
      },
      "execution_count": null,
      "outputs": []
    },
    {
      "cell_type": "code",
      "source": [
        "for i in songjang:\n",
        "  tot = re.findall(r'운송장번호 .+?',i)"
      ],
      "metadata": {
        "id": "wyM9yz1AqoQj"
      },
      "execution_count": null,
      "outputs": []
    },
    {
      "cell_type": "code",
      "source": [
        "for re_list in result:\n",
        "\n",
        "  \"\"\"\n",
        "  만약 다른 데이터들도 지금과 같이 들어온다는 보장이 있을 경우 (운송장번호 {숫자} 형식)\n",
        "  모든 문장들 중에서 '운송장번호' 라는 단어가 들어있는 문장만을 찾습니다.\n",
        "  그 후 공백으로 split후 뒷쪽의 운송장 번호가 적힌 데이터를 추출합니다.\n",
        "  \"\"\"\n",
        "\n",
        "  target = re_list[1].split(\" \")\n",
        "  print(target)\n",
        "  if \"운송장번호\" in target:\n",
        "    print(target)"
      ],
      "metadata": {
        "colab": {
          "base_uri": "https://localhost:8080/"
        },
        "id": "Ja1MfRTDt9iH",
        "outputId": "444169f4-924e-490c-e9e8-6b2a1efb04f0"
      },
      "execution_count": null,
      "outputs": [
        {
          "output_type": "stream",
          "name": "stdout",
          "text": [
            "['접수고객', '보관용']\n",
            "['당사는', '배송사고시', '공정거래위원회']\n",
            "['가', '정한', '약관에', '준하여', '보상처리하고']\n",
            "['다']\n",
            "['있습니다.', '(문송약관', '후면', '참조)']\n",
            "['물품가액은', '배송사고시', '배상금액의']\n",
            "['기준이', '되니다', '(문송장', '기재사랑은']\n",
            "['고객의', '확인', '및', '귀책', '기준임)']\n",
            "[\"'현금\", ',', '유가증권', ',', '귀금속,', '시한성', '상품']\n",
            "['(특정일', '사용', '및', '행사상품등)', ',', '재발행']\n",
            "['불가서류', ',', '신문증류', ',', '액처류', ',', '유리류,']\n",
            "['부패', '/변질', '우려상품', '등은', '접수물가상품']\n",
            "['이미', '배송사고시', '보상되지', '않습니다']\n",
            "['765-88-00857', '(쥐지예습비슬목스']\n",
            "['경기도', '용인지', '처인구', '포직움', '포곡로', '100']\n",
            "['운임', '선물', '5,100원']\n",
            "['운송장번호', '363780097230']\n",
            "['운송장번호', '363780097230']\n",
            "['물품가액', '300,000원']\n",
            "['비고']\n",
            "['이용불가상품없음']\n",
            "['접수일자', '2022-12-24']\n",
            "['0101V5F89']\n",
            "['발m사람', '감승준']\n",
            "['보니는사람', '김지권']\n",
            "['포스스템공']\n",
            "['스랜>']\n",
            "['<점포포스']\n"
          ]
        }
      ]
    },
    {
      "cell_type": "code",
      "source": [
        "import re\n",
        "\n",
        "for re_list in result:\n",
        "\n",
        "  \"\"\"\n",
        "  만약 다른 데이터들도 지금과 같이 들어온다는 보장이 없을 경우 (운송장번호 {숫자} 형식)\n",
        "  모든 문장들 중에서 '운송장번호' 라는 단어가 들어있는 문장만을 찾습니다.\n",
        "  그 후 해당 문자열에서 숫자 부분만 추출하여 리턴합니다.\n",
        "  \"\"\"\n",
        "  target = re_list[1]\n",
        "  if \"운송장번호\" in target:\n",
        "    tracking_num = re.sub(r'[^0-9]',\"\",target)\n",
        "    print(tracking_num)"
      ],
      "metadata": {
        "colab": {
          "base_uri": "https://localhost:8080/"
        },
        "id": "aAXVQBM9uxcu",
        "outputId": "556561d1-2ef1-4878-a9e0-2b08c3c391f3"
      },
      "execution_count": null,
      "outputs": [
        {
          "output_type": "stream",
          "name": "stdout",
          "text": [
            "363780097230\n"
          ]
        }
      ]
    },
    {
      "cell_type": "code",
      "source": [
        "for re_list in result:\n",
        "  target= re_list[1]\n",
        "  print(target)\n",
        "  "
      ],
      "metadata": {
        "colab": {
          "base_uri": "https://localhost:8080/"
        },
        "id": "56H7Yx1YvKiL",
        "outputId": "9ca7a5f3-f9c3-4708-d4d5-3b17a7a39dcb"
      },
      "execution_count": null,
      "outputs": [
        {
          "output_type": "stream",
          "name": "stdout",
          "text": [
            "접수고객 보관용\n",
            "당사는 배송사고시 공정거래위원회\n",
            "가 정한 약관에 준하여 보상처리하고\n",
            "다\n",
            "있습니다. (문송약관 후면 참조)\n",
            "물품가액은 배송사고시 배상금액의\n",
            "기준이 되니다 (문송장 기재사랑은\n",
            "고객의 확인 및 귀책 기준임)\n",
            "'현금 , 유가증권 , 귀금속, 시한성 상품\n",
            "(특정일 사용 및 행사상품등) , 재발행\n",
            "불가서류 , 신문증류 , 액처류 , 유리류,\n",
            "부패 /변질 우려상품 등은 접수물가상품\n",
            "이미 배송사고시 보상되지 않습니다\n",
            "765-88-00857 (쥐지예습비슬목스\n",
            "경기도 용인지 처인구 포직움 포곡로 100\n",
            "운임 선물 5,100원\n",
            "운송장번호 363780097230\n",
            "물품가액 300,000원\n",
            "비고\n",
            "이용불가상품없음\n",
            "접수일자 2022-12-24\n",
            "0101V5F89\n",
            "발m사람 감승준\n",
            "보니는사람 김지권\n",
            "포스스템공\n",
            "스랜>\n",
            "<점포포스\n"
          ]
        }
      ]
    },
    {
      "cell_type": "markdown",
      "source": [],
      "metadata": {
        "id": "2L-dR1Adpl93"
      }
    }
  ]
}